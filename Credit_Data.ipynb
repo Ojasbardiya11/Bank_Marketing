{
 "cells": [
  {
   "cell_type": "markdown",
   "id": "476521bb",
   "metadata": {},
   "source": [
    "# Problem Statement:\n",
    "## The data is related with direct marketing campaigns (phone calls) of a Portuguese banking institution. The classification goal is to predict if the client will subscribe a term deposit (variable y).\n",
    "\n"
   ]
  },
  {
   "cell_type": "markdown",
   "id": "bb186e77",
   "metadata": {},
   "source": [
    "# 1. Importing the Libraries"
   ]
  },
  {
   "cell_type": "code",
   "execution_count": 79,
   "id": "6d2083e3",
   "metadata": {},
   "outputs": [],
   "source": [
    "import numpy as np \n",
    "import pandas as pd \n",
    "import matplotlib.pyplot as plt \n",
    "import os\n",
    "import seaborn as sns \n",
    "from sklearn.model_selection import train_test_split, cross_val_score, GridSearchCV\n",
    "from sklearn import metrics\n",
    "from sklearn.svm import SVC  \n",
    "from sklearn.linear_model import LogisticRegression\n",
    "from sklearn.neighbors import KNeighborsClassifier\n",
    "from sklearn.tree import DecisionTreeClassifier\n",
    "from sklearn.cluster import KMeans\n",
    "from sklearn.metrics import confusion_matrix\n",
    "import sklearn.metrics.cluster as smc\n",
    "from sklearn.model_selection import KFold\n",
    "\n",
    "\n",
    "from matplotlib import pyplot\n",
    "import itertools\n",
    "\n",
    "%matplotlib inline\n",
    "\n",
    "import random \n",
    "  \n",
    "random.seed(42)"
   ]
  },
  {
   "cell_type": "code",
   "execution_count": 80,
   "id": "83e9ee9e",
   "metadata": {},
   "outputs": [],
   "source": [
    "def draw_confusion_matrix(y, yhat, classes):\n",
    "    '''\n",
    "        Draws a confusion matrix for the given target and predictions.\n",
    "    '''\n",
    "    plt.cla()\n",
    "    plt.clf()\n",
    "    matrix = confusion_matrix(y, yhat)\n",
    "    plt.imshow(matrix, interpolation='nearest', cmap=plt.cm.Blues)\n",
    "    plt.title(\"Confusion Matrix\")\n",
    "    plt.colorbar()\n",
    "    num_classes = len(classes)\n",
    "    plt.xticks(np.arange(num_classes), classes, rotation=90)\n",
    "    plt.yticks(np.arange(num_classes), classes)\n",
    "    \n",
    "    fmt = 'd'\n",
    "    thresh = matrix.max() / 2.\n",
    "    for i, j in itertools.product(range(matrix.shape[0]), range(matrix.shape[1])):\n",
    "        plt.text(j, i, format(matrix[i, j], fmt),\n",
    "                 horizontalalignment=\"center\",\n",
    "                 color=\"white\" if matrix[i, j] > thresh else \"black\")\n",
    "\n",
    "    plt.ylabel('True label')\n",
    "    plt.xlabel('Predicted label')\n",
    "    plt.tight_layout()\n",
    "    plt.show()"
   ]
  },
  {
   "cell_type": "markdown",
   "id": "78bd542f",
   "metadata": {},
   "source": [
    "## Loading the Data"
   ]
  },
  {
   "cell_type": "code",
   "execution_count": 4,
   "id": "492a619b",
   "metadata": {},
   "outputs": [],
   "source": [
    "import json"
   ]
  },
  {
   "cell_type": "code",
   "execution_count": 5,
   "id": "8d09001e",
   "metadata": {},
   "outputs": [],
   "source": [
    "DATASET_PATH = os.path.join(\"/Users\", \"ojasbardiya\", \"Downloads\")"
   ]
  },
  {
   "cell_type": "code",
   "execution_count": 6,
   "id": "e1db5b9b",
   "metadata": {},
   "outputs": [],
   "source": [
    "def load_data(data_path, file_name):\n",
    "    \n",
    "    csv_path = os.path.join(data_path, file_name)\n",
    "    return pd.read_csv(csv_path, sep=';')"
   ]
  },
  {
   "cell_type": "code",
   "execution_count": 7,
   "id": "9aea2d9a",
   "metadata": {},
   "outputs": [],
   "source": [
    "df_main = load_data(DATASET_PATH, 'bank-additional/bank-additional-full.csv')"
   ]
  },
  {
   "cell_type": "markdown",
   "id": "0c32fe4f",
   "metadata": {},
   "source": [
    "# 2. Basic Stats and EDA"
   ]
  },
  {
   "cell_type": "code",
   "execution_count": 8,
   "id": "5e2a5782",
   "metadata": {},
   "outputs": [
    {
     "data": {
      "text/html": [
       "<div>\n",
       "<style scoped>\n",
       "    .dataframe tbody tr th:only-of-type {\n",
       "        vertical-align: middle;\n",
       "    }\n",
       "\n",
       "    .dataframe tbody tr th {\n",
       "        vertical-align: top;\n",
       "    }\n",
       "\n",
       "    .dataframe thead th {\n",
       "        text-align: right;\n",
       "    }\n",
       "</style>\n",
       "<table border=\"1\" class=\"dataframe\">\n",
       "  <thead>\n",
       "    <tr style=\"text-align: right;\">\n",
       "      <th></th>\n",
       "      <th>age</th>\n",
       "      <th>job</th>\n",
       "      <th>marital</th>\n",
       "      <th>education</th>\n",
       "      <th>default</th>\n",
       "      <th>housing</th>\n",
       "      <th>loan</th>\n",
       "      <th>contact</th>\n",
       "      <th>month</th>\n",
       "      <th>day_of_week</th>\n",
       "      <th>...</th>\n",
       "      <th>campaign</th>\n",
       "      <th>pdays</th>\n",
       "      <th>previous</th>\n",
       "      <th>poutcome</th>\n",
       "      <th>emp.var.rate</th>\n",
       "      <th>cons.price.idx</th>\n",
       "      <th>cons.conf.idx</th>\n",
       "      <th>euribor3m</th>\n",
       "      <th>nr.employed</th>\n",
       "      <th>y</th>\n",
       "    </tr>\n",
       "  </thead>\n",
       "  <tbody>\n",
       "    <tr>\n",
       "      <th>0</th>\n",
       "      <td>56</td>\n",
       "      <td>housemaid</td>\n",
       "      <td>married</td>\n",
       "      <td>basic.4y</td>\n",
       "      <td>no</td>\n",
       "      <td>no</td>\n",
       "      <td>no</td>\n",
       "      <td>telephone</td>\n",
       "      <td>may</td>\n",
       "      <td>mon</td>\n",
       "      <td>...</td>\n",
       "      <td>1</td>\n",
       "      <td>999</td>\n",
       "      <td>0</td>\n",
       "      <td>nonexistent</td>\n",
       "      <td>1.1</td>\n",
       "      <td>93.994</td>\n",
       "      <td>-36.4</td>\n",
       "      <td>4.857</td>\n",
       "      <td>5191.0</td>\n",
       "      <td>no</td>\n",
       "    </tr>\n",
       "    <tr>\n",
       "      <th>1</th>\n",
       "      <td>57</td>\n",
       "      <td>services</td>\n",
       "      <td>married</td>\n",
       "      <td>high.school</td>\n",
       "      <td>unknown</td>\n",
       "      <td>no</td>\n",
       "      <td>no</td>\n",
       "      <td>telephone</td>\n",
       "      <td>may</td>\n",
       "      <td>mon</td>\n",
       "      <td>...</td>\n",
       "      <td>1</td>\n",
       "      <td>999</td>\n",
       "      <td>0</td>\n",
       "      <td>nonexistent</td>\n",
       "      <td>1.1</td>\n",
       "      <td>93.994</td>\n",
       "      <td>-36.4</td>\n",
       "      <td>4.857</td>\n",
       "      <td>5191.0</td>\n",
       "      <td>no</td>\n",
       "    </tr>\n",
       "    <tr>\n",
       "      <th>2</th>\n",
       "      <td>37</td>\n",
       "      <td>services</td>\n",
       "      <td>married</td>\n",
       "      <td>high.school</td>\n",
       "      <td>no</td>\n",
       "      <td>yes</td>\n",
       "      <td>no</td>\n",
       "      <td>telephone</td>\n",
       "      <td>may</td>\n",
       "      <td>mon</td>\n",
       "      <td>...</td>\n",
       "      <td>1</td>\n",
       "      <td>999</td>\n",
       "      <td>0</td>\n",
       "      <td>nonexistent</td>\n",
       "      <td>1.1</td>\n",
       "      <td>93.994</td>\n",
       "      <td>-36.4</td>\n",
       "      <td>4.857</td>\n",
       "      <td>5191.0</td>\n",
       "      <td>no</td>\n",
       "    </tr>\n",
       "    <tr>\n",
       "      <th>3</th>\n",
       "      <td>40</td>\n",
       "      <td>admin.</td>\n",
       "      <td>married</td>\n",
       "      <td>basic.6y</td>\n",
       "      <td>no</td>\n",
       "      <td>no</td>\n",
       "      <td>no</td>\n",
       "      <td>telephone</td>\n",
       "      <td>may</td>\n",
       "      <td>mon</td>\n",
       "      <td>...</td>\n",
       "      <td>1</td>\n",
       "      <td>999</td>\n",
       "      <td>0</td>\n",
       "      <td>nonexistent</td>\n",
       "      <td>1.1</td>\n",
       "      <td>93.994</td>\n",
       "      <td>-36.4</td>\n",
       "      <td>4.857</td>\n",
       "      <td>5191.0</td>\n",
       "      <td>no</td>\n",
       "    </tr>\n",
       "    <tr>\n",
       "      <th>4</th>\n",
       "      <td>56</td>\n",
       "      <td>services</td>\n",
       "      <td>married</td>\n",
       "      <td>high.school</td>\n",
       "      <td>no</td>\n",
       "      <td>no</td>\n",
       "      <td>yes</td>\n",
       "      <td>telephone</td>\n",
       "      <td>may</td>\n",
       "      <td>mon</td>\n",
       "      <td>...</td>\n",
       "      <td>1</td>\n",
       "      <td>999</td>\n",
       "      <td>0</td>\n",
       "      <td>nonexistent</td>\n",
       "      <td>1.1</td>\n",
       "      <td>93.994</td>\n",
       "      <td>-36.4</td>\n",
       "      <td>4.857</td>\n",
       "      <td>5191.0</td>\n",
       "      <td>no</td>\n",
       "    </tr>\n",
       "  </tbody>\n",
       "</table>\n",
       "<p>5 rows × 21 columns</p>\n",
       "</div>"
      ],
      "text/plain": [
       "   age        job  marital    education  default housing loan    contact  \\\n",
       "0   56  housemaid  married     basic.4y       no      no   no  telephone   \n",
       "1   57   services  married  high.school  unknown      no   no  telephone   \n",
       "2   37   services  married  high.school       no     yes   no  telephone   \n",
       "3   40     admin.  married     basic.6y       no      no   no  telephone   \n",
       "4   56   services  married  high.school       no      no  yes  telephone   \n",
       "\n",
       "  month day_of_week  ...  campaign  pdays  previous     poutcome emp.var.rate  \\\n",
       "0   may         mon  ...         1    999         0  nonexistent          1.1   \n",
       "1   may         mon  ...         1    999         0  nonexistent          1.1   \n",
       "2   may         mon  ...         1    999         0  nonexistent          1.1   \n",
       "3   may         mon  ...         1    999         0  nonexistent          1.1   \n",
       "4   may         mon  ...         1    999         0  nonexistent          1.1   \n",
       "\n",
       "   cons.price.idx  cons.conf.idx  euribor3m  nr.employed   y  \n",
       "0          93.994          -36.4      4.857       5191.0  no  \n",
       "1          93.994          -36.4      4.857       5191.0  no  \n",
       "2          93.994          -36.4      4.857       5191.0  no  \n",
       "3          93.994          -36.4      4.857       5191.0  no  \n",
       "4          93.994          -36.4      4.857       5191.0  no  \n",
       "\n",
       "[5 rows x 21 columns]"
      ]
     },
     "execution_count": 8,
     "metadata": {},
     "output_type": "execute_result"
    }
   ],
   "source": [
    "df_main.head()"
   ]
  },
  {
   "cell_type": "code",
   "execution_count": 9,
   "id": "317f95c3",
   "metadata": {},
   "outputs": [
    {
     "data": {
      "text/plain": [
       "Index(['age', 'job', 'marital', 'education', 'default', 'housing', 'loan',\n",
       "       'contact', 'month', 'day_of_week', 'duration', 'campaign', 'pdays',\n",
       "       'previous', 'poutcome', 'emp.var.rate', 'cons.price.idx',\n",
       "       'cons.conf.idx', 'euribor3m', 'nr.employed', 'y'],\n",
       "      dtype='object')"
      ]
     },
     "execution_count": 9,
     "metadata": {},
     "output_type": "execute_result"
    }
   ],
   "source": [
    "df_main.columns"
   ]
  },
  {
   "cell_type": "code",
   "execution_count": 10,
   "id": "336637bb",
   "metadata": {},
   "outputs": [
    {
     "name": "stdout",
     "output_type": "stream",
     "text": [
      "<class 'pandas.core.frame.DataFrame'>\n",
      "RangeIndex: 41188 entries, 0 to 41187\n",
      "Data columns (total 21 columns):\n",
      " #   Column          Non-Null Count  Dtype  \n",
      "---  ------          --------------  -----  \n",
      " 0   age             41188 non-null  int64  \n",
      " 1   job             41188 non-null  object \n",
      " 2   marital         41188 non-null  object \n",
      " 3   education       41188 non-null  object \n",
      " 4   default         41188 non-null  object \n",
      " 5   housing         41188 non-null  object \n",
      " 6   loan            41188 non-null  object \n",
      " 7   contact         41188 non-null  object \n",
      " 8   month           41188 non-null  object \n",
      " 9   day_of_week     41188 non-null  object \n",
      " 10  duration        41188 non-null  int64  \n",
      " 11  campaign        41188 non-null  int64  \n",
      " 12  pdays           41188 non-null  int64  \n",
      " 13  previous        41188 non-null  int64  \n",
      " 14  poutcome        41188 non-null  object \n",
      " 15  emp.var.rate    41188 non-null  float64\n",
      " 16  cons.price.idx  41188 non-null  float64\n",
      " 17  cons.conf.idx   41188 non-null  float64\n",
      " 18  euribor3m       41188 non-null  float64\n",
      " 19  nr.employed     41188 non-null  float64\n",
      " 20  y               41188 non-null  object \n",
      "dtypes: float64(5), int64(5), object(11)\n",
      "memory usage: 6.6+ MB\n"
     ]
    }
   ],
   "source": [
    "df_main.info()"
   ]
  },
  {
   "cell_type": "code",
   "execution_count": 11,
   "id": "c09134f0",
   "metadata": {},
   "outputs": [
    {
     "data": {
      "text/html": [
       "<div>\n",
       "<style scoped>\n",
       "    .dataframe tbody tr th:only-of-type {\n",
       "        vertical-align: middle;\n",
       "    }\n",
       "\n",
       "    .dataframe tbody tr th {\n",
       "        vertical-align: top;\n",
       "    }\n",
       "\n",
       "    .dataframe thead th {\n",
       "        text-align: right;\n",
       "    }\n",
       "</style>\n",
       "<table border=\"1\" class=\"dataframe\">\n",
       "  <thead>\n",
       "    <tr style=\"text-align: right;\">\n",
       "      <th></th>\n",
       "      <th>age</th>\n",
       "      <th>duration</th>\n",
       "      <th>campaign</th>\n",
       "      <th>pdays</th>\n",
       "      <th>previous</th>\n",
       "      <th>emp.var.rate</th>\n",
       "      <th>cons.price.idx</th>\n",
       "      <th>cons.conf.idx</th>\n",
       "      <th>euribor3m</th>\n",
       "      <th>nr.employed</th>\n",
       "    </tr>\n",
       "  </thead>\n",
       "  <tbody>\n",
       "    <tr>\n",
       "      <th>count</th>\n",
       "      <td>41188.00000</td>\n",
       "      <td>41188.000000</td>\n",
       "      <td>41188.000000</td>\n",
       "      <td>41188.000000</td>\n",
       "      <td>41188.000000</td>\n",
       "      <td>41188.000000</td>\n",
       "      <td>41188.000000</td>\n",
       "      <td>41188.000000</td>\n",
       "      <td>41188.000000</td>\n",
       "      <td>41188.000000</td>\n",
       "    </tr>\n",
       "    <tr>\n",
       "      <th>mean</th>\n",
       "      <td>40.02406</td>\n",
       "      <td>258.285010</td>\n",
       "      <td>2.567593</td>\n",
       "      <td>962.475454</td>\n",
       "      <td>0.172963</td>\n",
       "      <td>0.081886</td>\n",
       "      <td>93.575664</td>\n",
       "      <td>-40.502600</td>\n",
       "      <td>3.621291</td>\n",
       "      <td>5167.035911</td>\n",
       "    </tr>\n",
       "    <tr>\n",
       "      <th>std</th>\n",
       "      <td>10.42125</td>\n",
       "      <td>259.279249</td>\n",
       "      <td>2.770014</td>\n",
       "      <td>186.910907</td>\n",
       "      <td>0.494901</td>\n",
       "      <td>1.570960</td>\n",
       "      <td>0.578840</td>\n",
       "      <td>4.628198</td>\n",
       "      <td>1.734447</td>\n",
       "      <td>72.251528</td>\n",
       "    </tr>\n",
       "    <tr>\n",
       "      <th>min</th>\n",
       "      <td>17.00000</td>\n",
       "      <td>0.000000</td>\n",
       "      <td>1.000000</td>\n",
       "      <td>0.000000</td>\n",
       "      <td>0.000000</td>\n",
       "      <td>-3.400000</td>\n",
       "      <td>92.201000</td>\n",
       "      <td>-50.800000</td>\n",
       "      <td>0.634000</td>\n",
       "      <td>4963.600000</td>\n",
       "    </tr>\n",
       "    <tr>\n",
       "      <th>25%</th>\n",
       "      <td>32.00000</td>\n",
       "      <td>102.000000</td>\n",
       "      <td>1.000000</td>\n",
       "      <td>999.000000</td>\n",
       "      <td>0.000000</td>\n",
       "      <td>-1.800000</td>\n",
       "      <td>93.075000</td>\n",
       "      <td>-42.700000</td>\n",
       "      <td>1.344000</td>\n",
       "      <td>5099.100000</td>\n",
       "    </tr>\n",
       "    <tr>\n",
       "      <th>50%</th>\n",
       "      <td>38.00000</td>\n",
       "      <td>180.000000</td>\n",
       "      <td>2.000000</td>\n",
       "      <td>999.000000</td>\n",
       "      <td>0.000000</td>\n",
       "      <td>1.100000</td>\n",
       "      <td>93.749000</td>\n",
       "      <td>-41.800000</td>\n",
       "      <td>4.857000</td>\n",
       "      <td>5191.000000</td>\n",
       "    </tr>\n",
       "    <tr>\n",
       "      <th>75%</th>\n",
       "      <td>47.00000</td>\n",
       "      <td>319.000000</td>\n",
       "      <td>3.000000</td>\n",
       "      <td>999.000000</td>\n",
       "      <td>0.000000</td>\n",
       "      <td>1.400000</td>\n",
       "      <td>93.994000</td>\n",
       "      <td>-36.400000</td>\n",
       "      <td>4.961000</td>\n",
       "      <td>5228.100000</td>\n",
       "    </tr>\n",
       "    <tr>\n",
       "      <th>max</th>\n",
       "      <td>98.00000</td>\n",
       "      <td>4918.000000</td>\n",
       "      <td>56.000000</td>\n",
       "      <td>999.000000</td>\n",
       "      <td>7.000000</td>\n",
       "      <td>1.400000</td>\n",
       "      <td>94.767000</td>\n",
       "      <td>-26.900000</td>\n",
       "      <td>5.045000</td>\n",
       "      <td>5228.100000</td>\n",
       "    </tr>\n",
       "  </tbody>\n",
       "</table>\n",
       "</div>"
      ],
      "text/plain": [
       "               age      duration      campaign         pdays      previous  \\\n",
       "count  41188.00000  41188.000000  41188.000000  41188.000000  41188.000000   \n",
       "mean      40.02406    258.285010      2.567593    962.475454      0.172963   \n",
       "std       10.42125    259.279249      2.770014    186.910907      0.494901   \n",
       "min       17.00000      0.000000      1.000000      0.000000      0.000000   \n",
       "25%       32.00000    102.000000      1.000000    999.000000      0.000000   \n",
       "50%       38.00000    180.000000      2.000000    999.000000      0.000000   \n",
       "75%       47.00000    319.000000      3.000000    999.000000      0.000000   \n",
       "max       98.00000   4918.000000     56.000000    999.000000      7.000000   \n",
       "\n",
       "       emp.var.rate  cons.price.idx  cons.conf.idx     euribor3m   nr.employed  \n",
       "count  41188.000000    41188.000000   41188.000000  41188.000000  41188.000000  \n",
       "mean       0.081886       93.575664     -40.502600      3.621291   5167.035911  \n",
       "std        1.570960        0.578840       4.628198      1.734447     72.251528  \n",
       "min       -3.400000       92.201000     -50.800000      0.634000   4963.600000  \n",
       "25%       -1.800000       93.075000     -42.700000      1.344000   5099.100000  \n",
       "50%        1.100000       93.749000     -41.800000      4.857000   5191.000000  \n",
       "75%        1.400000       93.994000     -36.400000      4.961000   5228.100000  \n",
       "max        1.400000       94.767000     -26.900000      5.045000   5228.100000  "
      ]
     },
     "execution_count": 11,
     "metadata": {},
     "output_type": "execute_result"
    }
   ],
   "source": [
    "df_main.describe()"
   ]
  },
  {
   "cell_type": "code",
   "execution_count": 12,
   "id": "da93b14d",
   "metadata": {},
   "outputs": [
    {
     "data": {
      "text/plain": [
       "Text(0.5, 1.0, 'Correlation between different features')"
      ]
     },
     "execution_count": 12,
     "metadata": {},
     "output_type": "execute_result"
    },
    {
     "data": {
      "image/png": "[encoded data removed]",
      "text/plain": [
       "<Figure size 1440x1080 with 2 Axes>"
      ]
     },
     "metadata": {
      "needs_background": "light"
     },
     "output_type": "display_data"
    }
   ],
   "source": [
    "plt.figure(figsize=(20, 15))\n",
    "hmap = sns.heatmap(df_main.corr(), vmin=-1, vmax=1, annot=True)\n",
    "hmap.set_title('Correlation between different features')"
   ]
  },
  {
   "cell_type": "code",
   "execution_count": 13,
   "id": "dd63bfa7",
   "metadata": {},
   "outputs": [
    {
     "data": {
      "text/plain": [
       "array(['no', 'yes'], dtype=object)"
      ]
     },
     "execution_count": 13,
     "metadata": {},
     "output_type": "execute_result"
    }
   ],
   "source": [
    "df_main[\"y\"].unique()"
   ]
  },
  {
   "cell_type": "code",
   "execution_count": 14,
   "id": "9d9193b4",
   "metadata": {},
   "outputs": [
    {
     "data": {
      "text/plain": [
       "Text(0.5, 1.0, 'Count of subscribers/non-subscribers')"
      ]
     },
     "execution_count": 14,
     "metadata": {},
     "output_type": "execute_result"
    },
    {
     "data": {
      "image/png": "[encoded data removed]",
      "text/plain": [
       "<Figure size 432x288 with 1 Axes>"
      ]
     },
     "metadata": {
      "needs_background": "light"
     },
     "output_type": "display_data"
    }
   ],
   "source": [
    "s = df_main[df_main['y'] == 'yes'].shape[0]\n",
    "ns = df_main[df_main['y'] == 'no'].shape[0]\n",
    "x = [\"subscribed\", \"not subscribed\"]\n",
    "y = [s, ns]\n",
    "plt.bar(x, y, width=0.5)\n",
    "plt.title('Count of subscribers/non-subscribers')"
   ]
  },
  {
   "cell_type": "code",
   "execution_count": 15,
   "id": "d25b7454",
   "metadata": {},
   "outputs": [
    {
     "data": {
      "image/png": "[encoded data removed]",
      "text/plain": [
       "<Figure size 1080x720 with 12 Axes>"
      ]
     },
     "metadata": {
      "needs_background": "light"
     },
     "output_type": "display_data"
    }
   ],
   "source": [
    "df_main.hist(bins=5, figsize=(15,10))\n",
    "plt.show()"
   ]
  },
  {
   "cell_type": "code",
   "execution_count": 16,
   "id": "202da998",
   "metadata": {},
   "outputs": [],
   "source": [
    "#function to analyze subscription data based on other features in the dataset\n",
    "def get_bar(col):\n",
    "    vis = df_main[[col, \"y\"]]\n",
    "    sub_counts = pd.crosstab(vis[col], vis[\"y\"])\n",
    "    #normalizing the count so we can express the result as a percentage\n",
    "    sub_pcts = sub_counts.div(sub_counts.sum(1), axis=0)\n",
    "    sub_pcts.plot.bar()"
   ]
  },
  {
   "cell_type": "markdown",
   "id": "4badb951",
   "metadata": {},
   "source": [
    "## Subscriptions (and non-subscriptions) per Month"
   ]
  },
  {
   "cell_type": "code",
   "execution_count": 17,
   "id": "5775ba51",
   "metadata": {},
   "outputs": [
    {
     "data": {
      "image/png": "[encoded data removed]",
      "text/plain": [
       "<Figure size 432x288 with 1 Axes>"
      ]
     },
     "metadata": {
      "needs_background": "light"
     },
     "output_type": "display_data"
    }
   ],
   "source": [
    "get_bar(\"month\")"
   ]
  },
  {
   "cell_type": "markdown",
   "id": "273f4c06",
   "metadata": {},
   "source": [
    "## Subscriptions (and non-subscriptions) per Employment Status"
   ]
  },
  {
   "cell_type": "code",
   "execution_count": 18,
   "id": "4f516c27",
   "metadata": {},
   "outputs": [
    {
     "data": {
      "image/png": "[encoded data removed]",
      "text/plain": [
       "<Figure size 432x288 with 1 Axes>"
      ]
     },
     "metadata": {
      "needs_background": "light"
     },
     "output_type": "display_data"
    }
   ],
   "source": [
    "get_bar(\"job\")"
   ]
  },
  {
   "cell_type": "markdown",
   "id": "095dcf18",
   "metadata": {},
   "source": [
    "## Subscriptions (and non-subscriptions) per Marital Status"
   ]
  },
  {
   "cell_type": "code",
   "execution_count": 19,
   "id": "7fb5f5e5",
   "metadata": {},
   "outputs": [
    {
     "data": {
      "image/png": "[encoded data removed]",
      "text/plain": [
       "<Figure size 432x288 with 1 Axes>"
      ]
     },
     "metadata": {
      "needs_background": "light"
     },
     "output_type": "display_data"
    }
   ],
   "source": [
    "get_bar(\"marital\")"
   ]
  },
  {
   "cell_type": "markdown",
   "id": "8d50a95d",
   "metadata": {},
   "source": [
    "# 3. Pipeline and Data Augmentation"
   ]
  },
  {
   "cell_type": "code",
   "execution_count": 20,
   "id": "c2616018",
   "metadata": {},
   "outputs": [],
   "source": [
    "from sklearn.compose import ColumnTransformer\n",
    "from sklearn.preprocessing import StandardScaler\n",
    "from sklearn.preprocessing import OneHotEncoder\n",
    "from sklearn.preprocessing import LabelEncoder\n",
    "from sklearn.pipeline import Pipeline"
   ]
  },
  {
   "cell_type": "code",
   "execution_count": 21,
   "id": "d409eb38",
   "metadata": {},
   "outputs": [
    {
     "data": {
      "text/plain": [
       "Index(['age', 'job', 'marital', 'education', 'default', 'housing', 'loan',\n",
       "       'contact', 'month', 'day_of_week', 'duration', 'campaign', 'pdays',\n",
       "       'previous', 'poutcome', 'emp.var.rate', 'cons.price.idx',\n",
       "       'cons.conf.idx', 'euribor3m', 'nr.employed', 'y'],\n",
       "      dtype='object')"
      ]
     },
     "execution_count": 21,
     "metadata": {},
     "output_type": "execute_result"
    }
   ],
   "source": [
    "df1 = df_main.copy()\n",
    "df1.columns"
   ]
  },
  {
   "cell_type": "markdown",
   "id": "99ea11fc",
   "metadata": {},
   "source": [
    "## Determining categorization strategy\n",
    "## OHE - one hot encoding\n",
    "## LE - label encoding"
   ]
  },
  {
   "cell_type": "code",
   "execution_count": 22,
   "id": "04d714eb",
   "metadata": {},
   "outputs": [
    {
     "data": {
      "text/plain": [
       "array(['housemaid', 'services', 'admin.', 'blue-collar', 'technician',\n",
       "       'retired', 'management', 'unemployed', 'self-employed', 'unknown',\n",
       "       'entrepreneur', 'student'], dtype=object)"
      ]
     },
     "execution_count": 22,
     "metadata": {},
     "output_type": "execute_result"
    }
   ],
   "source": [
    "df1['job'].unique() #OHE"
   ]
  },
  {
   "cell_type": "code",
   "execution_count": 23,
   "id": "701667f8",
   "metadata": {},
   "outputs": [
    {
     "data": {
      "text/plain": [
       "array(['married', 'single', 'divorced', 'unknown'], dtype=object)"
      ]
     },
     "execution_count": 23,
     "metadata": {},
     "output_type": "execute_result"
    }
   ],
   "source": [
    "df1['marital'].unique() #OHE"
   ]
  },
  {
   "cell_type": "code",
   "execution_count": 24,
   "id": "6a4a4238",
   "metadata": {},
   "outputs": [
    {
     "data": {
      "text/plain": [
       "array(['basic.4y', 'high.school', 'basic.6y', 'basic.9y',\n",
       "       'professional.course', 'unknown', 'university.degree',\n",
       "       'illiterate'], dtype=object)"
      ]
     },
     "execution_count": 24,
     "metadata": {},
     "output_type": "execute_result"
    }
   ],
   "source": [
    "df1['education'].unique() #OHE"
   ]
  },
  {
   "cell_type": "code",
   "execution_count": 25,
   "id": "986485ff",
   "metadata": {},
   "outputs": [
    {
     "data": {
      "text/plain": [
       "array(['no', 'unknown', 'yes'], dtype=object)"
      ]
     },
     "execution_count": 25,
     "metadata": {},
     "output_type": "execute_result"
    }
   ],
   "source": [
    "df1['default'].unique() #OHE"
   ]
  },
  {
   "cell_type": "code",
   "execution_count": 26,
   "id": "ace01dbd",
   "metadata": {},
   "outputs": [
    {
     "data": {
      "text/plain": [
       "array(['no', 'yes', 'unknown'], dtype=object)"
      ]
     },
     "execution_count": 26,
     "metadata": {},
     "output_type": "execute_result"
    }
   ],
   "source": [
    "df1['housing'].unique() #OHE"
   ]
  },
  {
   "cell_type": "code",
   "execution_count": 27,
   "id": "1ff4d5a9",
   "metadata": {},
   "outputs": [
    {
     "data": {
      "text/plain": [
       "array(['no', 'yes', 'unknown'], dtype=object)"
      ]
     },
     "execution_count": 27,
     "metadata": {},
     "output_type": "execute_result"
    }
   ],
   "source": [
    "df1['loan'].unique() #OHE"
   ]
  },
  {
   "cell_type": "code",
   "execution_count": 28,
   "id": "d2a524cb",
   "metadata": {},
   "outputs": [
    {
     "data": {
      "text/plain": [
       "array(['telephone', 'cellular'], dtype=object)"
      ]
     },
     "execution_count": 28,
     "metadata": {},
     "output_type": "execute_result"
    }
   ],
   "source": [
    "df1['contact'].unique() #LE"
   ]
  },
  {
   "cell_type": "code",
   "execution_count": 29,
   "id": "2d64dbf1",
   "metadata": {},
   "outputs": [
    {
     "data": {
      "text/plain": [
       "array(['nonexistent', 'failure', 'success'], dtype=object)"
      ]
     },
     "execution_count": 29,
     "metadata": {},
     "output_type": "execute_result"
    }
   ],
   "source": [
    "df1['poutcome'].unique() #OHE"
   ]
  },
  {
   "cell_type": "markdown",
   "id": "e6a78886",
   "metadata": {},
   "source": [
    "## Building the Pipeline"
   ]
  },
  {
   "cell_type": "code",
   "execution_count": 30,
   "id": "d279be19",
   "metadata": {},
   "outputs": [],
   "source": [
    "df1_features = df1.drop(\"y\", axis=1)\n",
    "df1_labels = df1[\"y\"].copy()"
   ]
  },
  {
   "cell_type": "code",
   "execution_count": 31,
   "id": "27b11318",
   "metadata": {},
   "outputs": [
    {
     "name": "stdout",
     "output_type": "stream",
     "text": [
      "<class 'pandas.core.frame.DataFrame'>\n",
      "RangeIndex: 41188 entries, 0 to 41187\n",
      "Data columns (total 20 columns):\n",
      " #   Column          Non-Null Count  Dtype  \n",
      "---  ------          --------------  -----  \n",
      " 0   age             41188 non-null  int64  \n",
      " 1   job             41188 non-null  object \n",
      " 2   marital         41188 non-null  object \n",
      " 3   education       41188 non-null  object \n",
      " 4   default         41188 non-null  object \n",
      " 5   housing         41188 non-null  object \n",
      " 6   loan            41188 non-null  object \n",
      " 7   contact         41188 non-null  object \n",
      " 8   month           41188 non-null  object \n",
      " 9   day_of_week     41188 non-null  object \n",
      " 10  duration        41188 non-null  int64  \n",
      " 11  campaign        41188 non-null  int64  \n",
      " 12  pdays           41188 non-null  int64  \n",
      " 13  previous        41188 non-null  int64  \n",
      " 14  poutcome        41188 non-null  object \n",
      " 15  emp.var.rate    41188 non-null  float64\n",
      " 16  cons.price.idx  41188 non-null  float64\n",
      " 17  cons.conf.idx   41188 non-null  float64\n",
      " 18  euribor3m       41188 non-null  float64\n",
      " 19  nr.employed     41188 non-null  float64\n",
      "dtypes: float64(5), int64(5), object(10)\n",
      "memory usage: 6.3+ MB\n"
     ]
    }
   ],
   "source": [
    "df1_features.info()"
   ]
  },
  {
   "cell_type": "code",
   "execution_count": 32,
   "id": "2d38bae6",
   "metadata": {},
   "outputs": [],
   "source": [
    "#Label encoding binary features prior to pipeline transformation\n",
    "le = LabelEncoder()\n",
    "for col in [\"contact\"]:\n",
    "    df1_features[col] = le.fit_transform(df1_features[col])"
   ]
  },
  {
   "cell_type": "code",
   "execution_count": 33,
   "id": "04b63bce",
   "metadata": {},
   "outputs": [
    {
     "name": "stdout",
     "output_type": "stream",
     "text": [
      "<class 'pandas.core.frame.DataFrame'>\n",
      "RangeIndex: 41188 entries, 0 to 41187\n",
      "Data columns (total 20 columns):\n",
      " #   Column          Non-Null Count  Dtype  \n",
      "---  ------          --------------  -----  \n",
      " 0   age             41188 non-null  int64  \n",
      " 1   job             41188 non-null  object \n",
      " 2   marital         41188 non-null  object \n",
      " 3   education       41188 non-null  object \n",
      " 4   default         41188 non-null  object \n",
      " 5   housing         41188 non-null  object \n",
      " 6   loan            41188 non-null  object \n",
      " 7   contact         41188 non-null  int64  \n",
      " 8   month           41188 non-null  object \n",
      " 9   day_of_week     41188 non-null  object \n",
      " 10  duration        41188 non-null  int64  \n",
      " 11  campaign        41188 non-null  int64  \n",
      " 12  pdays           41188 non-null  int64  \n",
      " 13  previous        41188 non-null  int64  \n",
      " 14  poutcome        41188 non-null  object \n",
      " 15  emp.var.rate    41188 non-null  float64\n",
      " 16  cons.price.idx  41188 non-null  float64\n",
      " 17  cons.conf.idx   41188 non-null  float64\n",
      " 18  euribor3m       41188 non-null  float64\n",
      " 19  nr.employed     41188 non-null  float64\n",
      "dtypes: float64(5), int64(6), object(9)\n",
      "memory usage: 6.3+ MB\n"
     ]
    }
   ],
   "source": [
    "df1_features.info()"
   ]
  },
  {
   "cell_type": "code",
   "execution_count": 34,
   "id": "17cdae3b",
   "metadata": {},
   "outputs": [],
   "source": [
    "# This cell implements the complete pipeline for preparing the data\n",
    "\n",
    "#In case we need to augment features\n",
    "from sklearn.impute import SimpleImputer\n",
    "from sklearn.base import BaseEstimator, TransformerMixin\n",
    "\n",
    "imputer = SimpleImputer(strategy=\"mean\") # use mean imputation for missing values\n",
    "\n",
    "#Remove the non-numerical features\n",
    "df1_num = df1_features.drop([\"job\", \"marital\", \"education\", \"default\", \"housing\", \"loan\", \"contact\", \"month\", \"day_of_week\", \"poutcome\"], axis=1)\n",
    "\n",
    "#age_idx, bmi_idx = 0 , 2\n",
    "\n",
    "'''\n",
    "class AugmentFeatures(BaseEstimator, TransformerMixin):\n",
    "    #implements the previous features we had defined\n",
    "    #df1['bmi_x_age'] = df1[\"bmi\"]*df1[\"age\"]\n",
    "    def __init__(self, add_bmi_x_age = True): \n",
    "        self.add_bmi_x_age = add_bmi_x_age\n",
    "        \n",
    "    def fit(self, X, y=None):\n",
    "        return self  # nothing else to do\n",
    "    \n",
    "    def transform(self, X):\n",
    "        final = X\n",
    "        if self.add_bmi_x_age:\n",
    "            bmi_x_age = X[:, bmi_idx] * X[:, age_idx]\n",
    "            final = np.c_[X, bmi_x_age]\n",
    "        return final\n",
    "\n",
    "attr_adder = AugmentFeatures()\n",
    "df1_extra_attribs = attr_adder.transform(df1.values) # generate new features\n",
    "'''\n",
    "#Numerical Pipeline\n",
    "# 1. impute (if needed)\n",
    "# 2. Augment the feature set (if needed)\n",
    "# 3. Normalize using StandardScaler()\n",
    "num_pipeline = Pipeline([ #('imputer', SimpleImputer(strategy=\"mean\")), #('attribs_adder', AugmentFeatures()), \n",
    "        ('std_scaler', StandardScaler())])\n",
    "\n",
    "df1_num_tr = num_pipeline.fit_transform(df1_num)\n",
    "\n",
    "numerical_features = list(df1_num)\n",
    "categorical_features = [\"job\", \"marital\", \"education\", \"default\", \"housing\", \"loan\", \"month\", \"day_of_week\", \"poutcome\"]\n",
    "\n",
    "full_pipeline = ColumnTransformer(transformers=[\n",
    "        (\"num\", num_pipeline, numerical_features),\n",
    "        (\"cat\", OneHotEncoder(), categorical_features)],\n",
    "    remainder='passthrough')\n",
    "\n",
    "data_prepared = full_pipeline.fit_transform(df1_features)"
   ]
  },
  {
   "cell_type": "code",
   "execution_count": 35,
   "id": "aa42e00a",
   "metadata": {},
   "outputs": [
    {
     "data": {
      "text/plain": [
       "array([[ 1.53303429,  0.01047142, -0.56592197, ...,  1.        ,\n",
       "         0.        ,  1.        ],\n",
       "       [ 1.62899323, -0.42150051, -0.56592197, ...,  1.        ,\n",
       "         0.        ,  1.        ],\n",
       "       [-0.29018564, -0.12451981, -0.56592197, ...,  1.        ,\n",
       "         0.        ,  1.        ],\n",
       "       ...,\n",
       "       [ 1.53303429, -0.26722482, -0.20490853, ...,  1.        ,\n",
       "         0.        ,  0.        ],\n",
       "       [ 0.38152696,  0.70856893, -0.56592197, ...,  1.        ,\n",
       "         0.        ,  0.        ],\n",
       "       [ 3.26029527, -0.07438021,  0.15610492, ...,  0.        ,\n",
       "         0.        ,  0.        ]])"
      ]
     },
     "execution_count": 35,
     "metadata": {},
     "output_type": "execute_result"
    }
   ],
   "source": [
    "data_prepared"
   ]
  },
  {
   "cell_type": "code",
   "execution_count": 36,
   "id": "590cdcb0",
   "metadata": {},
   "outputs": [
    {
     "data": {
      "text/plain": [
       "(41188, 62)"
      ]
     },
     "execution_count": 36,
     "metadata": {},
     "output_type": "execute_result"
    }
   ],
   "source": [
    "data_prepared.shape"
   ]
  },
  {
   "cell_type": "markdown",
   "id": "7665e2ba",
   "metadata": {},
   "source": [
    "# 4. PCA and splitting the data"
   ]
  },
  {
   "cell_type": "code",
   "execution_count": 37,
   "id": "62bb4bfe",
   "metadata": {},
   "outputs": [],
   "source": [
    "from sklearn.model_selection import train_test_split\n",
    "from sklearn import decomposition"
   ]
  },
  {
   "cell_type": "code",
   "execution_count": 38,
   "id": "b0b130e3",
   "metadata": {},
   "outputs": [],
   "source": [
    "pca_data = data_prepared.copy()"
   ]
  },
  {
   "cell_type": "code",
   "execution_count": 39,
   "id": "36e7d783",
   "metadata": {},
   "outputs": [],
   "source": [
    "pca = decomposition.PCA(0.8)\n",
    "pca_data = pca.fit_transform(pca_data)"
   ]
  },
  {
   "cell_type": "code",
   "execution_count": 40,
   "id": "b6526199",
   "metadata": {},
   "outputs": [
    {
     "data": {
      "text/plain": [
       "(41188, 13)"
      ]
     },
     "execution_count": 40,
     "metadata": {},
     "output_type": "execute_result"
    }
   ],
   "source": [
    "pca_data.shape"
   ]
  },
  {
   "cell_type": "code",
   "execution_count": 65,
   "id": "b2208605",
   "metadata": {},
   "outputs": [],
   "source": [
    "df1_labels = df1_labels.map({'yes': 1, 'no': 0})"
   ]
  },
  {
   "cell_type": "code",
   "execution_count": 66,
   "id": "8506b1b0",
   "metadata": {},
   "outputs": [
    {
     "name": "stdout",
     "output_type": "stream",
     "text": [
      "Xp_train shape: (32950, 13)\n",
      "Yp_train shape: (32950,)\n",
      "Xp_test shape: (8238, 13)\n",
      "Yp_test shape: (8238,)\n"
     ]
    }
   ],
   "source": [
    "Xp_train, Xp_test, Yp_train, Yp_test = train_test_split(pca_data, df1_labels, test_size=0.2, stratify=df1_labels)\n",
    "print(\"Xp_train shape:\", Xp_train.shape)\n",
    "print(\"Yp_train shape:\", Yp_train.shape)\n",
    "print(\"Xp_test shape:\", Xp_test.shape)\n",
    "print(\"Yp_test shape:\", Yp_test.shape)"
   ]
  },
  {
   "cell_type": "code",
   "execution_count": 67,
   "id": "850c10bc",
   "metadata": {},
   "outputs": [
    {
     "data": {
      "text/plain": [
       "0    29238\n",
       "1     3712\n",
       "Name: y, dtype: int64"
      ]
     },
     "execution_count": 67,
     "metadata": {},
     "output_type": "execute_result"
    }
   ],
   "source": [
    "Yp_train.value_counts()"
   ]
  },
  {
   "cell_type": "markdown",
   "id": "146a8fa9",
   "metadata": {},
   "source": [
    "# 5. Balancing the Data and Importing Metrics"
   ]
  },
  {
   "cell_type": "code",
   "execution_count": 68,
   "id": "7fb14628",
   "metadata": {},
   "outputs": [],
   "source": [
    "from imblearn.over_sampling import SMOTE"
   ]
  },
  {
   "cell_type": "code",
   "execution_count": 69,
   "id": "f5a09edb",
   "metadata": {},
   "outputs": [],
   "source": [
    "sm = SMOTE(random_state=20)\n",
    "Xp_train, Yp_train = sm.fit_resample(Xp_train, Yp_train)"
   ]
  },
  {
   "cell_type": "code",
   "execution_count": 70,
   "id": "897ba625",
   "metadata": {},
   "outputs": [
    {
     "data": {
      "text/plain": [
       "0    29238\n",
       "1    29238\n",
       "Name: y, dtype: int64"
      ]
     },
     "execution_count": 70,
     "metadata": {},
     "output_type": "execute_result"
    }
   ],
   "source": [
    "Yp_train.value_counts()"
   ]
  },
  {
   "cell_type": "code",
   "execution_count": 71,
   "id": "886734bb",
   "metadata": {},
   "outputs": [],
   "source": [
    "from sklearn.metrics import precision_score\n",
    "from sklearn.metrics import recall_score\n",
    "from sklearn.metrics import f1_score\n",
    "from sklearn.metrics import accuracy_score"
   ]
  },
  {
   "cell_type": "markdown",
   "id": "a60352b4",
   "metadata": {},
   "source": [
    "# 6. Classification Algorithms"
   ]
  },
  {
   "cell_type": "markdown",
   "id": "ee9414d9",
   "metadata": {},
   "source": [
    "## a. Logistic Regression"
   ]
  },
  {
   "cell_type": "code",
   "execution_count": 72,
   "id": "f0c3ec28",
   "metadata": {},
   "outputs": [],
   "source": [
    "log_clf = LogisticRegression(solver='lbfgs').fit(Xp_train, Yp_train)\n",
    "y_pred = log_clf.predict(Xp_test)"
   ]
  },
  {
   "cell_type": "code",
   "execution_count": 73,
   "id": "7c23fade",
   "metadata": {},
   "outputs": [
    {
     "data": {
      "text/plain": [
       "array([0, 1, 0, ..., 0, 0, 0])"
      ]
     },
     "execution_count": 73,
     "metadata": {},
     "output_type": "execute_result"
    }
   ],
   "source": [
    "y_pred"
   ]
  },
  {
   "cell_type": "code",
   "execution_count": 74,
   "id": "7d785d12",
   "metadata": {},
   "outputs": [
    {
     "name": "stdout",
     "output_type": "stream",
     "text": [
      "Accuracy: 0.8607671764991502\n",
      "Precision: 0.439469320066335\n",
      "Recall: 0.8566810344827587\n",
      "F1 Score: 0.5809280233832663\n"
     ]
    }
   ],
   "source": [
    "acc_log = accuracy_score(Yp_test, y_pred)\n",
    "prec_log = precision_score(Yp_test, y_pred)\n",
    "rec_log = recall_score(Yp_test, y_pred)\n",
    "f1_log = f1_score(Yp_test, y_pred)\n",
    "\n",
    "print(\"Accuracy:\", acc_log)\n",
    "print(\"Precision:\", prec_log)\n",
    "print(\"Recall:\", rec_log)\n",
    "print(\"F1 Score:\", f1_log)"
   ]
  },
  {
   "cell_type": "code",
   "execution_count": 76,
   "id": "81667db8",
   "metadata": {},
   "outputs": [
    {
     "data": {
      "image/png": "[encoded data removed]",
      "text/plain": [
       "<Figure size 432x288 with 1 Axes>"
      ]
     },
     "metadata": {
      "needs_background": "light"
     },
     "output_type": "display_data"
    },
    {
     "name": "stdout",
     "output_type": "stream",
     "text": [
      "AUC: 0.8589834720977405\n"
     ]
    }
   ],
   "source": [
    "fpr, tpr, threshold = metrics.roc_curve(Yp_test, y_pred)\n",
    "plt.plot(fpr, tpr, color='red', label='ROC')\n",
    "plt.plot([0, 1], [0, 1], color='gray', linestyle='--')\n",
    "plt.xlabel('False Positive Rate')\n",
    "plt.ylabel('True Positive Rate')\n",
    "plt.title('ROC Curve')\n",
    "plt.legend()\n",
    "plt.show()\n",
    "\n",
    "auc = np.trapz(tpr,fpr)\n",
    "print('AUC:', auc)"
   ]
  },
  {
   "cell_type": "markdown",
   "id": "87b80b4c",
   "metadata": {},
   "source": [
    "## b. K-Nearest Neighbors"
   ]
  },
  {
   "cell_type": "code",
   "execution_count": 83,
   "id": "9e83d76b",
   "metadata": {},
   "outputs": [],
   "source": [
    "knn_clf = KNeighborsClassifier().fit(Xp_train, Yp_train)\n",
    "y_pred = knn_clf.predict(Xp_test)"
   ]
  },
  {
   "cell_type": "code",
   "execution_count": 84,
   "id": "9901e5fa",
   "metadata": {},
   "outputs": [
    {
     "data": {
      "text/plain": [
       "array([0, 1, 0, ..., 0, 1, 0])"
      ]
     },
     "execution_count": 84,
     "metadata": {},
     "output_type": "execute_result"
    }
   ],
   "source": [
    "y_pred"
   ]
  },
  {
   "cell_type": "code",
   "execution_count": 85,
   "id": "7dc40be0",
   "metadata": {},
   "outputs": [
    {
     "name": "stdout",
     "output_type": "stream",
     "text": [
      "Accuracy: 0.8548191308570041\n",
      "Precision: 0.4213615023474178\n",
      "Recall: 0.7737068965517241\n",
      "F1 Score: 0.5455927051671732\n"
     ]
    }
   ],
   "source": [
    "acc_knn = accuracy_score(Yp_test, y_pred)\n",
    "prec_knn = precision_score(Yp_test, y_pred)\n",
    "rec_knn = recall_score(Yp_test, y_pred)\n",
    "f1_knn = f1_score(Yp_test, y_pred)\n",
    "\n",
    "print(\"Accuracy:\", acc_knn)\n",
    "print(\"Precision:\", prec_knn)\n",
    "print(\"Recall:\", rec_knn)\n",
    "print(\"F1 Score:\", f1_knn)"
   ]
  },
  {
   "cell_type": "code",
   "execution_count": 86,
   "id": "c241ae2e",
   "metadata": {},
   "outputs": [
    {
     "name": "stdout",
     "output_type": "stream",
     "text": [
      "N = 1\n",
      "Accuracy: 0.8548191308570041\n",
      "Precision: 0.4213615023474178\n",
      "Recall: 0.7737068965517241\n",
      "F1 Score: 0.5455927051671732\n",
      "N = 2\n",
      "Accuracy: 0.8548191308570041\n",
      "Precision: 0.4213615023474178\n",
      "Recall: 0.7737068965517241\n",
      "F1 Score: 0.5455927051671732\n",
      "N = 3\n",
      "Accuracy: 0.8548191308570041\n",
      "Precision: 0.4213615023474178\n",
      "Recall: 0.7737068965517241\n",
      "F1 Score: 0.5455927051671732\n",
      "N = 5\n",
      "Accuracy: 0.8548191308570041\n",
      "Precision: 0.4213615023474178\n",
      "Recall: 0.7737068965517241\n",
      "F1 Score: 0.5455927051671732\n",
      "N = 7\n",
      "Accuracy: 0.8548191308570041\n",
      "Precision: 0.4213615023474178\n",
      "Recall: 0.7737068965517241\n",
      "F1 Score: 0.5455927051671732\n",
      "N = 9\n",
      "Accuracy: 0.8548191308570041\n",
      "Precision: 0.4213615023474178\n",
      "Recall: 0.7737068965517241\n",
      "F1 Score: 0.5455927051671732\n",
      "N = 10\n",
      "Accuracy: 0.8548191308570041\n",
      "Precision: 0.4213615023474178\n",
      "Recall: 0.7737068965517241\n",
      "F1 Score: 0.5455927051671732\n",
      "N = 20\n",
      "Accuracy: 0.8548191308570041\n",
      "Precision: 0.4213615023474178\n",
      "Recall: 0.7737068965517241\n",
      "F1 Score: 0.5455927051671732\n",
      "N = 50\n",
      "Accuracy: 0.8548191308570041\n",
      "Precision: 0.4213615023474178\n",
      "Recall: 0.7737068965517241\n",
      "F1 Score: 0.5455927051671732\n",
      "N = 100\n",
      "Accuracy: 0.8548191308570041\n",
      "Precision: 0.4213615023474178\n",
      "Recall: 0.7737068965517241\n",
      "F1 Score: 0.5455927051671732\n"
     ]
    }
   ],
   "source": [
    "neighbors = [1, 2, 3, 5, 7, 9, 10, 20, 50, 100]\n",
    "for n in neighbors:\n",
    "    knn_classifier = KNeighborsClassifier(n_neighbors=n).fit(Xp_train, Yp_train)\n",
    "    y_pred = knn_clf.predict(Xp_test)\n",
    "    print(\"N = %d\" %n)\n",
    "    print(\"Accuracy:\", accuracy_score(Yp_test, y_pred))\n",
    "    print(\"Precision:\", precision_score(Yp_test, y_pred))\n",
    "    print(\"Recall:\", recall_score(Yp_test, y_pred))\n",
    "    print(\"F1 Score:\", f1_score(Yp_test, y_pred))"
   ]
  },
  {
   "cell_type": "markdown",
   "id": "5a5f3738",
   "metadata": {},
   "source": [
    "## c. Bagging"
   ]
  },
  {
   "cell_type": "code",
   "execution_count": 87,
   "id": "8d2546a7",
   "metadata": {},
   "outputs": [],
   "source": [
    "from sklearn.ensemble import BaggingClassifier\n",
    "from sklearn import model_selection"
   ]
  },
  {
   "cell_type": "code",
   "execution_count": 88,
   "id": "10d4b1e1",
   "metadata": {},
   "outputs": [],
   "source": [
    "tree = DecisionTreeClassifier(max_depth=3, random_state=20)"
   ]
  },
  {
   "cell_type": "code",
   "execution_count": 89,
   "id": "a35bb5d9",
   "metadata": {},
   "outputs": [],
   "source": [
    "bagging = BaggingClassifier(base_estimator=tree, n_estimators=16, max_samples=200, bootstrap=True)"
   ]
  },
  {
   "cell_type": "code",
   "execution_count": 90,
   "id": "58328d38",
   "metadata": {},
   "outputs": [
    {
     "data": {
      "text/plain": [
       "BaggingClassifier(base_estimator=DecisionTreeClassifier(max_depth=3,\n",
       "                                                        random_state=20),\n",
       "                  max_samples=200, n_estimators=16)"
      ]
     },
     "execution_count": 90,
     "metadata": {},
     "output_type": "execute_result"
    }
   ],
   "source": [
    "bagging.fit(Xp_train, Yp_train)"
   ]
  },
  {
   "cell_type": "code",
   "execution_count": 91,
   "id": "0c503ad4",
   "metadata": {},
   "outputs": [],
   "source": [
    "y_pred = bagging.predict(Xp_test)"
   ]
  },
  {
   "cell_type": "code",
   "execution_count": 92,
   "id": "053d37d4",
   "metadata": {},
   "outputs": [
    {
     "name": "stdout",
     "output_type": "stream",
     "text": [
      "Accuracy: 0.8194950230638505\n",
      "Precision: 0.3698183511877038\n",
      "Recall: 0.8556034482758621\n",
      "F1 Score: 0.5164227642276423\n"
     ]
    }
   ],
   "source": [
    "acc_bag = accuracy_score(Yp_test, y_pred)\n",
    "prec_bag = precision_score(Yp_test, y_pred)\n",
    "rec_bag = recall_score(Yp_test, y_pred)\n",
    "f1_bag = f1_score(Yp_test, y_pred)\n",
    "\n",
    "print(\"Accuracy:\", acc_bag)\n",
    "print(\"Precision:\", prec_bag)\n",
    "print(\"Recall:\", rec_bag)\n",
    "print(\"F1 Score:\", f1_bag)"
   ]
  },
  {
   "cell_type": "markdown",
   "id": "12575246",
   "metadata": {},
   "source": [
    "### Hyperparameter Tuning"
   ]
  },
  {
   "cell_type": "code",
   "execution_count": 96,
   "id": "ff6646e9",
   "metadata": {},
   "outputs": [],
   "source": [
    "from sklearn.model_selection import GridSearchCV\n",
    "from sklearn.model_selection import RepeatedStratifiedKFold\n",
    "from sklearn.model_selection import cross_val_score\n",
    "from sklearn.metrics import make_scorer"
   ]
  },
  {
   "cell_type": "code",
   "execution_count": 101,
   "id": "cf8a6e8d",
   "metadata": {},
   "outputs": [],
   "source": [
    "n_estimators = [10, 15, 20]\n",
    "max_samples = [0.6, 0.8, 1.0]\n",
    "max_features = [4, 5, 6]"
   ]
  },
  {
   "cell_type": "code",
   "execution_count": 123,
   "id": "96cca2a8",
   "metadata": {},
   "outputs": [],
   "source": [
    "p = make_scorer(precision_score, average='macro')\n",
    "f1 = make_scorer(f1_score, average='macro')"
   ]
  },
  {
   "cell_type": "code",
   "execution_count": 103,
   "id": "6d0c00da",
   "metadata": {},
   "outputs": [],
   "source": [
    "grid = dict(n_estimators = n_estimators, max_samples = max_samples, max_features = max_features)\n",
    "grid_search = GridSearchCV(BaggingClassifier(base_estimator=DecisionTreeClassifier()), param_grid=grid, n_jobs=-1, cv=5, scoring=p)"
   ]
  },
  {
   "cell_type": "code",
   "execution_count": 104,
   "id": "81aadb14",
   "metadata": {},
   "outputs": [],
   "source": [
    "grid_result = grid_search.fit(Xp_train, Yp_train)"
   ]
  },
  {
   "cell_type": "code",
   "execution_count": 105,
   "id": "7d889d7a",
   "metadata": {},
   "outputs": [
    {
     "name": "stdout",
     "output_type": "stream",
     "text": [
      "Best: 0.935237 using {'max_features': 6, 'max_samples': 1.0, 'n_estimators': 20}\n"
     ]
    }
   ],
   "source": [
    "print(\"Best: %f using %s\" % (grid_result.best_score_, grid_result.best_params_))"
   ]
  },
  {
   "cell_type": "markdown",
   "id": "acf1e36a",
   "metadata": {},
   "source": [
    "## d. Neural Network"
   ]
  },
  {
   "cell_type": "code",
   "execution_count": 106,
   "id": "a3a4c974",
   "metadata": {},
   "outputs": [],
   "source": [
    "from sklearn.neural_network import MLPClassifier\n",
    "from sklearn.datasets import make_classification"
   ]
  },
  {
   "cell_type": "code",
   "execution_count": 109,
   "id": "3d1ef457",
   "metadata": {},
   "outputs": [
    {
     "name": "stdout",
     "output_type": "stream",
     "text": [
      "Iteration 1, loss = 0.31995996\n",
      "Iteration 2, loss = 0.27436472\n",
      "Iteration 3, loss = 0.25625935\n",
      "Iteration 4, loss = 0.24765133\n",
      "Iteration 5, loss = 0.24157494\n",
      "Iteration 6, loss = 0.23626344\n",
      "Iteration 7, loss = 0.23164930\n",
      "Iteration 8, loss = 0.22760736\n",
      "Iteration 9, loss = 0.22166760\n",
      "Iteration 10, loss = 0.21768941\n",
      "Iteration 11, loss = 0.21298843\n",
      "Iteration 12, loss = 0.20847733\n",
      "Iteration 13, loss = 0.20638728\n",
      "Iteration 14, loss = 0.20023305\n",
      "Iteration 15, loss = 0.19760133\n",
      "Iteration 16, loss = 0.19291598\n",
      "Iteration 17, loss = 0.18951463\n",
      "Iteration 18, loss = 0.18473961\n",
      "Iteration 19, loss = 0.18010336\n",
      "Iteration 20, loss = 0.17712012\n",
      "Iteration 21, loss = 0.17414222\n",
      "Iteration 22, loss = 0.17029215\n",
      "Iteration 23, loss = 0.16826224\n",
      "Iteration 24, loss = 0.16406460\n",
      "Iteration 25, loss = 0.16164877\n",
      "Iteration 26, loss = 0.15838700\n",
      "Iteration 27, loss = 0.15471887\n",
      "Iteration 28, loss = 0.15401356\n",
      "Iteration 29, loss = 0.15016810\n",
      "Iteration 30, loss = 0.14739764\n",
      "Iteration 31, loss = 0.14474009\n",
      "Iteration 32, loss = 0.14367000\n",
      "Iteration 33, loss = 0.13855776\n",
      "Iteration 34, loss = 0.13648330\n",
      "Iteration 35, loss = 0.13563436\n",
      "Iteration 36, loss = 0.13163021\n",
      "Iteration 37, loss = 0.13048143\n",
      "Iteration 38, loss = 0.12865032\n",
      "Iteration 39, loss = 0.12641422\n",
      "Iteration 40, loss = 0.12460539\n",
      "Iteration 41, loss = 0.12261062\n",
      "Iteration 42, loss = 0.11957444\n",
      "Iteration 43, loss = 0.11694933\n",
      "Iteration 44, loss = 0.11610048\n",
      "Iteration 45, loss = 0.11363888\n",
      "Iteration 46, loss = 0.11267276\n",
      "Iteration 47, loss = 0.10937824\n",
      "Iteration 48, loss = 0.10890690\n",
      "Iteration 49, loss = 0.10645932\n",
      "Iteration 50, loss = 0.10733160\n",
      "Iteration 51, loss = 0.10378857\n",
      "Iteration 52, loss = 0.10075358\n",
      "Iteration 53, loss = 0.10109813\n",
      "Iteration 54, loss = 0.09940928\n",
      "Iteration 55, loss = 0.09892300\n",
      "Iteration 56, loss = 0.09652335\n",
      "Iteration 57, loss = 0.09498545\n",
      "Iteration 58, loss = 0.09417602\n",
      "Iteration 59, loss = 0.09392918\n",
      "Iteration 60, loss = 0.09039905\n",
      "Iteration 61, loss = 0.08927512\n",
      "Iteration 62, loss = 0.09184184\n",
      "Iteration 63, loss = 0.09122505\n",
      "Iteration 64, loss = 0.08290706\n",
      "Iteration 65, loss = 0.08590165\n",
      "Iteration 66, loss = 0.08326173\n",
      "Iteration 67, loss = 0.08358432\n",
      "Iteration 68, loss = 0.08102414\n",
      "Iteration 69, loss = 0.07903696\n",
      "Iteration 70, loss = 0.08116452\n",
      "Iteration 71, loss = 0.07882409\n",
      "Iteration 72, loss = 0.07595924\n",
      "Iteration 73, loss = 0.07615069\n",
      "Iteration 74, loss = 0.07495749\n",
      "Iteration 75, loss = 0.07203856\n",
      "Iteration 76, loss = 0.07307245\n",
      "Iteration 77, loss = 0.07657566\n",
      "Iteration 78, loss = 0.07221169\n",
      "Iteration 79, loss = 0.06944470\n",
      "Iteration 80, loss = 0.06940704\n",
      "Iteration 81, loss = 0.07128844\n",
      "Iteration 82, loss = 0.06779400\n",
      "Iteration 83, loss = 0.06887930\n",
      "Iteration 84, loss = 0.06217845\n",
      "Iteration 85, loss = 0.06627801\n",
      "Iteration 86, loss = 0.06517109\n",
      "Iteration 87, loss = 0.06286637\n",
      "Iteration 88, loss = 0.05966579\n",
      "Iteration 89, loss = 0.06334124\n",
      "Iteration 90, loss = 0.06444782\n",
      "Iteration 91, loss = 0.06178200\n",
      "Iteration 92, loss = 0.06111405\n",
      "Iteration 93, loss = 0.05983956\n",
      "Iteration 94, loss = 0.05779379\n",
      "Iteration 95, loss = 0.05988138\n",
      "Iteration 96, loss = 0.05680462\n",
      "Iteration 97, loss = 0.06081980\n",
      "Iteration 98, loss = 0.05872829\n",
      "Iteration 99, loss = 0.05325674\n",
      "Iteration 100, loss = 0.05029992\n"
     ]
    },
    {
     "name": "stderr",
     "output_type": "stream",
     "text": [
      "/Users/ojasbardiya/opt/anaconda3/lib/python3.9/site-packages/sklearn/neural_network/_multilayer_perceptron.py:614: ConvergenceWarning: Stochastic Optimizer: Maximum iterations (100) reached and the optimization hasn't converged yet.\n",
      "  warnings.warn(\n"
     ]
    }
   ],
   "source": [
    "#We only use PCA transformed data from this point on\n",
    "mlp_clf = MLPClassifier(activation='relu', hidden_layer_sizes=(150,100,50), max_iter=100, alpha=0.0001,\n",
    "                     solver='adam', verbose=10,  random_state=21)\n",
    "mlp_clf.fit(Xp_train, Yp_train)\n",
    "\n",
    "y_pred = mlp_clf.predict(Xp_test)"
   ]
  },
  {
   "cell_type": "code",
   "execution_count": 126,
   "id": "e4187bf9",
   "metadata": {},
   "outputs": [
    {
     "name": "stdout",
     "output_type": "stream",
     "text": [
      "Accuracy: 0.8846807477543093\n",
      "Precision: 0.49012567324955114\n",
      "Recall: 0.5883620689655172\n",
      "F1 Score: 0.5347698334965719\n"
     ]
    }
   ],
   "source": [
    "acc_nn = accuracy_score(Yp_test, y_pred)\n",
    "prec_nn = precision_score(Yp_test, y_pred)\n",
    "rec_nn = recall_score(Yp_test, y_pred)\n",
    "f1_nn = f1_score(Yp_test, y_pred)\n",
    "\n",
    "print(\"Accuracy:\", acc_nn)\n",
    "print(\"Precision:\", prec_nn)\n",
    "print(\"Recall:\", rec_nn)\n",
    "print(\"F1 Score:\", f1_nn)"
   ]
  },
  {
   "cell_type": "markdown",
   "id": "88efe0ff",
   "metadata": {},
   "source": [
    "# 7. K-Fold Cross Validation - Using Stratified K-Fold"
   ]
  },
  {
   "cell_type": "code",
   "execution_count": 127,
   "id": "21670367",
   "metadata": {},
   "outputs": [],
   "source": [
    "from sklearn.model_selection import KFold\n",
    "from sklearn import model_selection"
   ]
  },
  {
   "cell_type": "code",
   "execution_count": 128,
   "id": "4644fd35",
   "metadata": {},
   "outputs": [],
   "source": [
    "kfold = model_selection.StratifiedKFold(n_splits=5)"
   ]
  },
  {
   "cell_type": "code",
   "execution_count": 129,
   "id": "9e35b283",
   "metadata": {},
   "outputs": [
    {
     "name": "stderr",
     "output_type": "stream",
     "text": [
      "/Users/ojasbardiya/opt/anaconda3/lib/python3.9/site-packages/sklearn/neural_network/_multilayer_perceptron.py:614: ConvergenceWarning: Stochastic Optimizer: Maximum iterations (100) reached and the optimization hasn't converged yet.\n",
      "  warnings.warn(\n",
      "/Users/ojasbardiya/opt/anaconda3/lib/python3.9/site-packages/sklearn/neural_network/_multilayer_perceptron.py:614: ConvergenceWarning: Stochastic Optimizer: Maximum iterations (100) reached and the optimization hasn't converged yet.\n",
      "  warnings.warn(\n",
      "/Users/ojasbardiya/opt/anaconda3/lib/python3.9/site-packages/sklearn/neural_network/_multilayer_perceptron.py:614: ConvergenceWarning: Stochastic Optimizer: Maximum iterations (100) reached and the optimization hasn't converged yet.\n",
      "  warnings.warn(\n",
      "/Users/ojasbardiya/opt/anaconda3/lib/python3.9/site-packages/sklearn/neural_network/_multilayer_perceptron.py:614: ConvergenceWarning: Stochastic Optimizer: Maximum iterations (100) reached and the optimization hasn't converged yet.\n",
      "  warnings.warn(\n",
      "/Users/ojasbardiya/opt/anaconda3/lib/python3.9/site-packages/sklearn/neural_network/_multilayer_perceptron.py:614: ConvergenceWarning: Stochastic Optimizer: Maximum iterations (100) reached and the optimization hasn't converged yet.\n",
      "  warnings.warn(\n"
     ]
    },
    {
     "name": "stdout",
     "output_type": "stream",
     "text": [
      " Bagging f1 score: 54.03%\n",
      "Neural Network f1 score: 43.85%\n"
     ]
    }
   ],
   "source": [
    "bag_model_kfold = BaggingClassifier(base_estimator=tree, n_estimators=6, max_samples=200, bootstrap=True)\n",
    "\n",
    "nn_model_kfold = MLPClassifier(hidden_layer_sizes=(150,100,50), max_iter=100, alpha=0.001,\n",
    "                     solver='adam')\n",
    "\n",
    "bag_results_kfold = model_selection.cross_val_score(bag_model_kfold, pca_data, df1_labels, cv=kfold, scoring=f1)\n",
    "\n",
    "nn_results_kfold = model_selection.cross_val_score(nn_model_kfold, pca_data, df1_labels, cv=kfold, scoring=f1)\n",
    "\n",
    "\n",
    "# Because we're collecting results from all runs, we take the mean value\n",
    "print(\" Bagging f1 score: %.2f%%\" % (bag_results_kfold.mean()*100.0)) \n",
    "\n",
    "print(\"Neural Network f1 score: %.2f%%\" % (nn_results_kfold.mean()*100.0))"
   ]
  },
  {
   "cell_type": "markdown",
   "id": "46f74cdf",
   "metadata": {},
   "source": [
    "# 8. Discussion"
   ]
  },
  {
   "cell_type": "markdown",
   "id": "264b2b35",
   "metadata": {},
   "source": [
    "### Since we're trying to classify whether a person will subscribe to a bank term deposit, it makes sense to look at precision as the primary evaluation metric since we want to minimize the number of false positives as a greater number of false positives would mean more resources invested in consumers who likely won't start a deposit. It also makes sense to consider F1 score as an important metric since the original dataset is highly imbalanced. "
   ]
  },
  {
   "cell_type": "markdown",
   "id": "0cb07750",
   "metadata": {},
   "source": [
    "### Out of the models we've chosen, an MLP Neural Network gives the highest precision of ~49%. This far too low (a coin toss has better odds) so it doesn't make much sense to actually use this model in business decisions. "
   ]
  },
  {
   "cell_type": "markdown",
   "id": "65e79c1f",
   "metadata": {},
   "source": [
    "### A bagging classifier (with its base classifier as a decision tree) provides an F1 score of ~54% but this is still far too inadequate to be actually considered as high-performing."
   ]
  },
  {
   "cell_type": "markdown",
   "id": "a1cf4106",
   "metadata": {},
   "source": [
    "### A possible reason for the low precision and F1 score is the highly imbalanced nature of the original dataset. Artificially balancing it through oversampling via SMOTE often results in overfitting and makes the model less robust."
   ]
  }
 ],
 "metadata": {
  "kernelspec": {
   "display_name": "Python 3 (ipykernel)",
   "language": "python",
   "name": "python3"
  },
  "language_info": {
   "codemirror_mode": {
    "name": "ipython",
    "version": 3
   },
   "file_extension": ".py",
   "mimetype": "text/x-python",
   "name": "python",
   "nbconvert_exporter": "python",
   "pygments_lexer": "ipython3",
   "version": "3.9.7"
  }
 },
 "nbformat": 4,
 "nbformat_minor": 5
}
